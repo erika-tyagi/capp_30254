{
 "cells": [
  {
   "cell_type": "markdown",
   "metadata": {},
   "source": [
    "# Assignment 5: Improving the Pipeline - Updated\n",
    "\n",
    "## Part 2: Analysis\n",
    "\n",
    "The problem is to predict if a project on donorschoose will not get fully funded within 60 days of posting. This prediction is being done at the time of posting, so you can only use data available to you at that time. The data is a file that has one row for each project posted with a column for \"date_posted\" (the date the project was posted) and a column for \"datefullyfunded\" (the date the project was fully funded - assumption for this assignment is that all projects were fully funded eventually). The task is to predict if a project on donorschoose will not get fully funded within 60 days of posting.\n",
    "\n",
    "The data spans Jan 1, 2012 to Dec 31, 2013. You should have your validation/test set be a rolling window of 6 months (which should give you three test sets). The training sets should be everything from 1/1/12 to the beginning of the test set."
   ]
  },
  {
   "cell_type": "code",
   "execution_count": 1,
   "metadata": {},
   "outputs": [],
   "source": [
    "import pipeline_v3 as pipeline\n",
    "import pandas as pd\n",
    "import numpy as np\n",
    "import warnings\n",
    "\n",
    "from sklearn.model_selection import ParameterGrid\n",
    "\n",
    "from sklearn.linear_model import LogisticRegression\n",
    "from sklearn.neighbors import KNeighborsClassifier\n",
    "from sklearn.tree import DecisionTreeClassifier\n",
    "from sklearn.svm import LinearSVC\n",
    "from sklearn.naive_bayes import GaussianNB\n",
    "from sklearn.ensemble import RandomForestClassifier\n",
    "from sklearn.ensemble import GradientBoostingClassifier \n",
    "from sklearn.ensemble import AdaBoostClassifier\n",
    "from sklearn.ensemble import ExtraTreesClassifier\n",
    "\n",
    "pd.set_option('display.max_columns', None)\n",
    "pd.set_option('display.max_rows', None)\n",
    "warnings.filterwarnings('ignore')"
   ]
  },
  {
   "cell_type": "markdown",
   "metadata": {},
   "source": [
    "First, I specify the necessary parameters to apply the pipeline. This includes specifying the target variable (not_funded_within_60days) and feature variables. Note, I used included all of the potentially meaningful features included in the original data. My pipeline pre-processes these data by (1) converting the categorical variables into dummy variables (using a one-hot-encoding approach), and (2) imputing missing values using the mean of the column. This is done for the training and testing data separately. \n",
    "\n",
    "I also specify the necessary parameters for the temporal splits– the start and end dates for the splits, along with the test window and prediction window. With this information, I calculate the number of splits in the data (i.e., the number of temporal splits to loop over). As specified in the instructions, the validation sets are 6 month windows, where the training sets are everything from the start date to the beginning of the test set after leaving a gap for the prediction window of 60 days between the two.  \n",
    "\n",
    "I then specify the models to run: Logistic Regrssion, K-Nearest Neighbor, Decision Trees, SVM, Random Forests (a type of Bagging), two Boosting classifiers (Gradient Boosting and AdaBoost), Naive Bayes Classifier, and Extra Trees– along with the parameters to vary for each of these classifiers. \n",
    "\n",
    "Finally, I specify the necessary evaluation parameters– the k-percentage thresholds and the name of the CSV file to output the final evaluation table to. As specified in the instructions, my evaluation table includes the following metrics (all at a k-percentage threshold): accuracy, precision, recall, F1 and AUC_ROC). "
   ]
  },
  {
   "cell_type": "code",
   "execution_count": 2,
   "metadata": {
    "scrolled": true
   },
   "outputs": [],
   "source": [
    "# Define target \n",
    "target_col = 'not_funded_within_60days'\n",
    "\n",
    "# Define features \n",
    "feature_cols = ['school_city', \n",
    "                'school_state', \n",
    "                'school_metro', \n",
    "                'school_district', \n",
    "                'school_county',\n",
    "                'school_charter', \n",
    "                'school_magnet',\n",
    "                'teacher_prefix',\n",
    "                'primary_focus_subject', \n",
    "                'primary_focus_area', \n",
    "                'resource_type',\n",
    "                'poverty_level', \n",
    "                'grade_level', \n",
    "                'total_price_including_optional_support', \n",
    "                'students_reached', \n",
    "                'eligible_double_your_impact_match']\n",
    "\n",
    "# Define temporal splits \n",
    "start_date = '2012-01-01'\n",
    "end_date = '2013-12-31'\n",
    "test_window = pd.Timedelta(6, unit='M')\n",
    "prediction_horizon = pd.Timedelta(60, unit='d') \n",
    "splits = pd.Timedelta(pd.to_datetime(end_date) - pd.to_datetime(start_date)) // test_window\n",
    "date_col = 'date_posted'\n",
    "\n",
    "# Define models\n",
    "classifiers = {'LR':  LogisticRegression(),\n",
    "               'KNN': KNeighborsClassifier(), \n",
    "               'DT':  DecisionTreeClassifier(), \n",
    "               'SVM': LinearSVC(), \n",
    "               'RF':  RandomForestClassifier(), \n",
    "               'GB':  GradientBoostingClassifier(), \n",
    "               'AB':  AdaBoostClassifier(), \n",
    "               'NB':  GaussianNB(), \n",
    "               'ET':  ExtraTreesClassifier()} \n",
    "\n",
    "# Define parameters \n",
    "parameters = {'LR':  {'penalty': ['l1','l2'], 'C': [0.001,0.1]}, \n",
    "              'KNN': {'n_neighbors': [5,10], 'weights': ['uniform','distance']}, \n",
    "              'DT':  {'max_depth': [5,10], 'min_samples_split': [5,10]}, \n",
    "              'SVM': {'tol': [0.0001, 0.001], 'C': [0.001,0.1]}, \n",
    "              'RF':  {'n_estimators': [10,100], 'max_depth': [5,10], 'min_samples_split': [5,10]}, \n",
    "              'GB':  {'n_estimators': [10,100], 'learning_rate':[0.001,0.1]}, \n",
    "              'AB':  {'n_estimators': [10,100], 'algorithm': ['SAMME', 'SAMME.R']}, \n",
    "              'NB':  {}, \n",
    "              'ET':  {'n_estimators': [10,100], 'max_depth': [5,10], 'min_samples_split': [5,10]}}\n",
    "\n",
    "# Define evaluation thresholds \n",
    "thresholds = [0.01, 0.02, 0.05, 0.1, 0.2, 0.3, 0.5]\n",
    "output_file = 'evaluation_results.csv'"
   ]
  },
  {
   "cell_type": "code",
   "execution_count": 3,
   "metadata": {},
   "outputs": [],
   "source": [
    "df = pd.read_csv('data/projects_2012_2013.csv')"
   ]
  },
  {
   "cell_type": "markdown",
   "metadata": {},
   "source": [
    "Once the necessary parameters are specified, I can apply my pipeline to this specific problem with the following steps: (1) importing the dataset, (2) creating the target variable, (3) looping over the temporal splits, (4) looping over the classifiers, (5) looping over the parameters, (6) looping over the evaluation thresholds, and (7) outputting the final evaluation table. "
   ]
  },
  {
   "cell_type": "code",
   "execution_count": 4,
   "metadata": {},
   "outputs": [],
   "source": [
    "# Import data\n",
    "df = pd.read_csv('data/projects_2012_2013.csv')\n",
    "\n",
    "# Create target \n",
    "df['datefullyfunded'] = pd.to_datetime(df['datefullyfunded'])\n",
    "df['date_posted'] = pd.to_datetime(df['date_posted'])\n",
    "df['not_funded_within_60days'] = np.where(df['datefullyfunded'] - df['date_posted'] > pd.Timedelta(60, unit='d'), 1, 0)\n",
    "\n",
    "evaluation_table = []\n",
    "\n",
    "# Loop over temporal splits \n",
    "for temporal_split in range(1, splits+1):\n",
    "    \n",
    "    # Split training and testing data\n",
    "    train, test = pipeline.temporal_split(df, start_date, end_date, test_window, prediction_horizon, date_col, temporal_split)\n",
    "    \n",
    "    # Process training and testing data \n",
    "    X_train, X_test, y_train, y_test = pipeline.pre_process(train, test, target_col, feature_cols)\n",
    "\n",
    "    # Loop over classifiers \n",
    "    for clf, model in classifiers.items(): \n",
    "        parameter_values = parameters[clf]\n",
    "\n",
    "        # Loop over parameters \n",
    "        for p in ParameterGrid(parameter_values):\n",
    "            model.set_params(**p)\n",
    "            scores = pipeline.build_classifier(clf, model, X_train, y_train, X_test)\n",
    "    \n",
    "            # Loop over evalaluation thresholds \n",
    "            for k in thresholds: \n",
    "                row = [temporal_split, clf, p]\n",
    "                row.extend(pipeline.metrics_at_k(y_test, scores, k))\n",
    "                evaluation_table.append(row)\n",
    "\n",
    "# Create evaluation table \n",
    "header = ['Split', 'Classifier', 'Parameters', 'Threshold', 'Accuracy', 'Precision', 'Recall', 'F1', 'AUC_ROC']\n",
    "pd.DataFrame(evaluation_table, columns=header).to_csv(output_file, index=False)"
   ]
  },
  {
   "cell_type": "markdown",
   "metadata": {},
   "source": [
    "Rather than showing the precision-recall curves for each of the models generated by the above loop, the curves below show the precision-recall curves for the very last model generated in the loop– an Extra Trees classifier with parameters {'max_depth': 10, 'min_samples_split': 10, 'n_estimators': 100} applied on the third temporal split. "
   ]
  },
  {
   "cell_type": "code",
   "execution_count": 5,
   "metadata": {},
   "outputs": [
    {
     "data": {
      "text/plain": [
       "<Figure size 432x288 with 0 Axes>"
      ]
     },
     "metadata": {},
     "output_type": "display_data"
    },
    {
     "data": {
      "image/png": "[encoded data removed]",
      "text/plain": [
       "<Figure size 432x288 with 2 Axes>"
      ]
     },
     "metadata": {
      "needs_background": "light"
     },
     "output_type": "display_data"
    }
   ],
   "source": [
    "# Precision-recall curves \n",
    "pipeline.plot_precision_recall_n(y_test, scores)"
   ]
  }
 ],
 "metadata": {
  "kernelspec": {
   "display_name": "Python 3",
   "language": "python",
   "name": "python3"
  },
  "language_info": {
   "codemirror_mode": {
    "name": "ipython",
    "version": 3
   },
   "file_extension": ".py",
   "mimetype": "text/x-python",
   "name": "python",
   "nbconvert_exporter": "python",
   "pygments_lexer": "ipython3",
   "version": "3.7.3"
  }
 },
 "nbformat": 4,
 "nbformat_minor": 2
}
